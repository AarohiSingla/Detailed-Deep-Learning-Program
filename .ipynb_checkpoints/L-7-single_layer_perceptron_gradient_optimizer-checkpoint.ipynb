{
 "cells": [
  {
   "cell_type": "code",
   "execution_count": 3,
   "metadata": {},
   "outputs": [],
   "source": [
    "import tensorflow as tf\n",
    " \n",
    "tf.compat.v1.disable_eager_execution()\n",
    "\n",
    "w=tf.Variable([.2])  # initial weight\n",
    "b=tf.Variable([-.2]) # initial bias\n",
    "\n",
    "x= tf.compat.v1.placeholder(tf.float32)  # input \n",
    "y= tf.compat.v1.placeholder(tf.float32)  # actual output\n",
    "\n",
    "linear_model=w*x + b    #calculating predicted y\n"
   ]
  },
  {
   "cell_type": "code",
   "execution_count": 6,
   "metadata": {},
   "outputs": [
    {
     "name": "stdout",
     "output_type": "stream",
     "text": [
      "[0.2]\n",
      "[-0.2]\n"
     ]
    }
   ],
   "source": [
    "init =tf.compat.v1.global_variables_initializer()  # initalizing variables\n",
    "\n",
    "\n",
    "s= tf.compat.v1.Session() # setting up session for computation\n",
    "\n",
    "s.run(init) \n",
    "print(s.run(w)) \n",
    "print(s.run(b))\n"
   ]
  },
  {
   "cell_type": "markdown",
   "metadata": {},
   "source": [
    "# Lets calculate the error after 1st epoch"
   ]
  },
  {
   "cell_type": "code",
   "execution_count": 7,
   "metadata": {},
   "outputs": [
    {
     "name": "stdout",
     "output_type": "stream",
     "text": [
      "loss or Error is \n",
      "20.16\n"
     ]
    }
   ],
   "source": [
    "squared_deltas=tf.square(linear_model -y)  # used to square the error\n",
    "loss = tf.reduce_sum(squared_deltas) # reduce_sum is used to sum all the squared errors and give us rmse\n",
    "\n",
    "\n",
    "print(\"loss or Error is \")\n",
    "print(s.run(loss, {x:[1,2,3,4], y:[0,-1,-2,-3]}))   #given input and output values here because we have used placeholder\n"
   ]
  },
  {
   "cell_type": "markdown",
   "metadata": {},
   "source": [
    "# error is 20.16 . So lets update the weights and check error again"
   ]
  },
  {
   "cell_type": "code",
   "execution_count": 10,
   "metadata": {},
   "outputs": [],
   "source": [
    "# now we want to reduce the rmse so we will use gradient descent optimizer\n",
    "\n",
    "optimizer =  tf.compat.v1.train.GradientDescentOptimizer(0.01) # 0.01 is learning rate\n",
    "train = optimizer.minimize(loss)\n",
    "s.run(init)\n",
    "for i in range(1000):  # 1000 is training epoch\n",
    " s.run(train, {x:[1,2,3,4,],y:[0,-1,-2,-3]})\n"
   ]
  },
  {
   "cell_type": "code",
   "execution_count": 11,
   "metadata": {},
   "outputs": [
    {
     "name": "stdout",
     "output_type": "stream",
     "text": [
      "[array([-0.99999714], dtype=float32), array([0.99999154], dtype=float32)]\n"
     ]
    }
   ],
   "source": [
    "print(s.run([w,b])) # we will get values for weight and bias\n"
   ]
  },
  {
   "cell_type": "code",
   "execution_count": 12,
   "metadata": {},
   "outputs": [
    {
     "data": {
      "text/plain": [
       "array([-5.6028366e-06, -1.0000027e+00, -1.9999999e+00, -2.9999971e+00],\n",
       "      dtype=float32)"
      ]
     },
     "execution_count": 12,
     "metadata": {},
     "output_type": "execute_result"
    }
   ],
   "source": [
    "s.run(linear_model, {x:[1,2,3,4], y:[0,-1,-2,-3]})\n"
   ]
  },
  {
   "cell_type": "markdown",
   "metadata": {},
   "source": [
    "these values are near to the desired output"
   ]
  },
  {
   "cell_type": "code",
   "execution_count": 13,
   "metadata": {},
   "outputs": [
    {
     "data": {
      "text/plain": [
       "4.7108983e-11"
      ]
     },
     "execution_count": 13,
     "metadata": {},
     "output_type": "execute_result"
    }
   ],
   "source": [
    "s.run(loss, {x:[1,2,3,4], y:[0,-1,-2,-3]})\n",
    "\n"
   ]
  },
  {
   "cell_type": "markdown",
   "metadata": {},
   "source": [
    "# rmse after gradient descent optimizer is 4.6611603e-11. Earlier we were getting 20.16"
   ]
  },
  {
   "cell_type": "code",
   "execution_count": null,
   "metadata": {},
   "outputs": [],
   "source": []
  }
 ],
 "metadata": {
  "kernelspec": {
   "display_name": "Python 3",
   "language": "python",
   "name": "python3"
  },
  "language_info": {
   "codemirror_mode": {
    "name": "ipython",
    "version": 3
   },
   "file_extension": ".py",
   "mimetype": "text/x-python",
   "name": "python",
   "nbconvert_exporter": "python",
   "pygments_lexer": "ipython3",
   "version": "3.7.6"
  }
 },
 "nbformat": 4,
 "nbformat_minor": 2
}
